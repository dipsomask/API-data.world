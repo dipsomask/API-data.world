{
  "cells": [
    {
      "cell_type": "markdown",
      "metadata": {
        "id": "view-in-github",
        "colab_type": "text"
      },
      "source": [
        "<a href=\"https://colab.research.google.com/github/dipsomask/API-data.world/blob/main/older_file.ipynb\" target=\"_parent\"><img src=\"https://colab.research.google.com/assets/colab-badge.svg\" alt=\"Open In Colab\"/></a>"
      ]
    },
    {
      "cell_type": "code",
      "execution_count": 1,
      "metadata": {
        "id": "lIYdn1woOS1n"
      },
      "outputs": [],
      "source": [
        "import http.client as cl\n",
        "import ssl\n",
        "import json\n",
        "import requests\n",
        "import pandas as pd\n",
        "df = pd.read_excel('https://query.data.world/s/ckhgqx3ut6c6q2dx4mtxq5znrbqhvw?dws=00000')"
      ]
    },
    {
      "cell_type": "code",
      "source": [
        "print(df)\n",
        "conn = cl.HTTPSConnection('data.world', timeout=5,\n",
        " context=ssl._create_unverified_context())\n",
        "if(conn != 0):\n",
        "  print(\"WEll done\")"
      ],
      "metadata": {
        "id": "O51Gu-vx_S32"
      },
      "execution_count": null,
      "outputs": []
    },
    {
      "cell_type": "code",
      "source": [
        "for i in range(20,100):\n",
        " print(\"Customer Name:\", df['Customer Name'].iloc[i], \"|\", \"City:\", df['City'].iloc[i])"
      ],
      "metadata": {
        "id": "Z4YwzSEmDKjP"
      },
      "execution_count": null,
      "outputs": []
    }
  ],
  "metadata": {
    "colab": {
      "name": "scratchpad",
      "provenance": [],
      "include_colab_link": true
    },
    "kernelspec": {
      "display_name": "Python 3",
      "name": "python3"
    }
  },
  "nbformat": 4,
  "nbformat_minor": 0
}